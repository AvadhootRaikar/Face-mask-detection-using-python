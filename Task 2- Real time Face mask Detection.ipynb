{
 "cells": [
  {
   "cell_type": "code",
   "execution_count": null,
   "id": "35911df7",
   "metadata": {},
   "outputs": [],
   "source": [
    "\n",
    "import cv2\n",
    "import os\n",
    "import pandas as pd\n",
    "import matplotlib.pyplot as plt\n",
    "from sklearn.model_selection import train_test_split\n",
    "import numpy as np\n",
    "import keras\n",
    "import tensorflow as tf\n",
    "from sklearn.metrics import confusion_matrix\n",
    "import seaborn as sns\n",
    "from sklearn.metrics import classification_report"
   ]
  },
  {
   "cell_type": "code",
   "execution_count": null,
   "id": "ce51c2bc",
   "metadata": {},
   "outputs": [],
   "source": [
    "\n",
    "with_mask=(r\"C:\\Users\\Avadhoot\\Downloads\\Task 2- Face mask detection\\face-mask-dataset\\Dataset\\test\\test\\with_mask\")\n",
    "without_mask=(r\"C:\\Users\\Avadhoot\\Downloads\\Task 2- Face mask detection\\face-mask-dataset\\Dataset\\test\\test\\without_mask\")\n",
    "pd.DataFrame([len(os.listdir(with_mask)),len(os.listdir(without_mask))],columns=['Number'],index=['with_mask','without_mask'])"
   ]
  },
  {
   "cell_type": "code",
   "execution_count": null,
   "id": "1ee67705",
   "metadata": {},
   "outputs": [],
   "source": [
    "\n",
    "i=1\n",
    "plt.figure(figsize=(20,20))\n",
    "for img in os.listdir(with_mask):\n",
    "    if i==51:\n",
    "        break\n",
    "    plt.subplot(5,10,i)\n",
    "    img_arr=cv2.imread(os.path.join(with_mask,img))\n",
    "    plt.imshow(img_arr)\n",
    "    i+=1\n",
    "    plt.axis('off')"
   ]
  },
  {
   "cell_type": "code",
   "execution_count": null,
   "id": "d931b3e8",
   "metadata": {},
   "outputs": [],
   "source": [
    "\n",
    "i=1\n",
    "plt.figure(figsize=(20,20))\n",
    "for img in os.listdir(without_mask):\n",
    "    if i==51:\n",
    "        break\n",
    "    plt.subplot(5,10,i)\n",
    "    img_arr=cv2.imread(os.path.join(without_mask,img))\n",
    "    plt.imshow(img_arr)\n",
    "    i+=1\n",
    "    plt.axis('off')"
   ]
  },
  {
   "cell_type": "code",
   "execution_count": null,
   "id": "d6241cff",
   "metadata": {},
   "outputs": [],
   "source": [
    "label=[]\n",
    "data=[]\n",
    "size=[]\n",
    "for img in os.listdir(with_mask):\n",
    "    img_arr=cv2.imread(os.path.join(with_mask,img))\n",
    "    data.append(img_arr)\n",
    "    label.append(1)\n",
    "    size.append(img_arr.shape)\n",
    "for img in os.listdir(without_mask):\n",
    "    img_arr=cv2.imread(os.path.join(without_mask,img))\n",
    "    data.append(img_arr)\n",
    "    label.append(0)\n",
    "    size.append(img_arr.shape)"
   ]
  },
  {
   "cell_type": "code",
   "execution_count": null,
   "id": "20f8bb22",
   "metadata": {},
   "outputs": [],
   "source": [
    "\n",
    "pd.DataFrame(pd.Series(size).value_counts(),columns=['Number'])"
   ]
  },
  {
   "cell_type": "code",
   "execution_count": null,
   "id": "698c7f2d",
   "metadata": {},
   "outputs": [],
   "source": [
    "size=128\n",
    "for x in range(len(data)):\n",
    "    data[x]=cv2.resize(data[x],(size,size))"
   ]
  },
  {
   "cell_type": "code",
   "execution_count": null,
   "id": "c055d040",
   "metadata": {},
   "outputs": [],
   "source": [
    "data = np.array(data)\n",
    "label = np.array(label)\n",
    "X_train,X_test,y_train,y_test = train_test_split(data,label,test_size=.15,shuffle=True,random_state=44)\n",
    "print('X Train Shape is :',X_train.shape)\n",
    "print('X Test Shape is :',X_test.shape)\n",
    "print('Y Train Shape is :',y_train.shape)\n",
    "print('Y Test Shape is :',y_test.shape)"
   ]
  },
  {
   "cell_type": "code",
   "execution_count": null,
   "id": "d7bb9f89",
   "metadata": {},
   "outputs": [],
   "source": [
    "model=keras.models.Sequential()\n",
    "model.add(keras.layers.Conv2D(filters=32,kernel_size=(3,3),activation=tf.nn.relu,input_shape=(size,size,3)))\n",
    "model.add(keras.layers.MaxPooling2D((3,3)))\n",
    "model.add(keras.layers.Conv2D(filters=64,kernel_size=(3,3),activation=tf.nn.relu))\n",
    "model.add(keras.layers.MaxPooling2D((3,3)))\n",
    "model.add(keras.layers.Flatten())\n",
    "model.add(keras.layers.Dense(128, activation='relu'))\n",
    "model.add(keras.layers.Dropout(0.2))\n",
    "model.add(keras.layers.Dense(64, activation='relu'))\n",
    "model.add(keras.layers.Dropout(0.2))\n",
    "model.add(keras.layers.Dense(2, activation='softmax'))"
   ]
  },
  {
   "cell_type": "code",
   "execution_count": null,
   "id": "2130b509",
   "metadata": {},
   "outputs": [],
   "source": [
    "model.summary()"
   ]
  },
  {
   "cell_type": "code",
   "execution_count": null,
   "id": "2cdde363",
   "metadata": {},
   "outputs": [],
   "source": [
    "model.compile(optimizer ='adam',loss='sparse_categorical_crossentropy',metrics=['accuracy'])\n",
    "hist=model.fit(X_train,y_train,epochs=10,validation_split = 0.1)"
   ]
  },
  {
   "cell_type": "code",
   "execution_count": null,
   "id": "b8745b55",
   "metadata": {},
   "outputs": [],
   "source": [
    "hist = pd.DataFrame(hist.history)\n",
    "hist"
   ]
  },
  {
   "cell_type": "code",
   "execution_count": null,
   "id": "a21ae953",
   "metadata": {},
   "outputs": [],
   "source": [
    "prediction = model.predict(X_test)\n",
    "prediction"
   ]
  },
  {
   "cell_type": "code",
   "execution_count": null,
   "id": "e4e147e0",
   "metadata": {
    "scrolled": true
   },
   "outputs": [],
   "source": [
    "pred_label=[]\n",
    "for row in prediction:\n",
    "    N=np.argmax(row)\n",
    "    if N==1:\n",
    "        pred_label.append('with mask')\n",
    "    else:\n",
    "        pred_label.append('without mask')\n",
    "pd.DataFrame(pred_label,columns=['prediction'])"
   ]
  },
  {
   "cell_type": "code",
   "execution_count": null,
   "id": "ee82d0ef",
   "metadata": {},
   "outputs": [],
   "source": [
    "plt.figure(figsize=(20,30))\n",
    "i = 1\n",
    "for img in X_test:\n",
    "    if i==51:\n",
    "        break\n",
    "    plt.subplot(10,5,i)\n",
    "    plt.imshow(img)\n",
    "    plt.title(pred_label[i-1])\n",
    "    plt.legend()\n",
    "    i+=1\n",
    "    plt.axis('off')"
   ]
  }
 ],
 "metadata": {
  "kernelspec": {
   "display_name": "Python 3 (ipykernel)",
   "language": "python",
   "name": "python3"
  },
  "language_info": {
   "codemirror_mode": {
    "name": "ipython",
    "version": 3
   },
   "file_extension": ".py",
   "mimetype": "text/x-python",
   "name": "python",
   "nbconvert_exporter": "python",
   "pygments_lexer": "ipython3",
   "version": "3.10.2"
  }
 },
 "nbformat": 4,
 "nbformat_minor": 5
}
